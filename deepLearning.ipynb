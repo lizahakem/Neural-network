{
 "cells": [
  {
   "cell_type": "code",
   "execution_count": 2,
   "id": "a316c521-b2d2-48ac-a3f8-1283c1872764",
   "metadata": {},
   "outputs": [],
   "source": [
    "#initialisation (X) avoir les params W et b\n",
    "#écrire algo itératif\n",
    "##Modele(X,W,b)                          (Z=XW+b) (A=1/(1/exp(-Z)))\n",
    "##Cost(A,Y)                              L= -1/m * sum (-y*log(A)+(1-y) * log(1-A))\n",
    "##Gradients(A,X,y)                       dL/dW dL/db\n",
    "##Update(W,b, dW,db) update de W et b    W=W-alpha*dL/dW   b=b-alpha*dL/db\n",
    "#fin bouvle (on a minimisé le cout de notre modèle avec les nouveau W et b"
   ]
  },
  {
   "cell_type": "code",
   "execution_count": 9,
   "id": "1d7000cb-c54f-4438-b446-c9047123270c",
   "metadata": {},
   "outputs": [],
   "source": [
    "import numpy as np\n",
    "import matplotlib.pyplot as plt\n",
    "from sklearn.datasets import make_blobs"
   ]
  },
  {
   "cell_type": "code",
   "execution_count": 10,
   "id": "79f15151-b264-4010-a002-7ec904b54cf2",
   "metadata": {},
   "outputs": [
    {
     "name": "stdout",
     "output_type": "stream",
     "text": [
      "(100, 1)\n",
      "(100, 2)\n"
     ]
    },
    {
     "data": {
      "image/png": "[encoded data removed]",
      "text/plain": [
       "<Figure size 432x288 with 1 Axes>"
      ]
     },
     "metadata": {
      "needs_background": "light"
     },
     "output_type": "display_data"
    }
   ],
   "source": [
    "X,y= make_blobs(n_samples=100, n_features=2, centers=2, random_state=0)\n",
    "y = y.reshape((y.shape[0],1))\n",
    "print(y.shape)\n",
    "print(X.shape)\n",
    "\n",
    "plt.scatter(X[:,0], X[:,1] , c=y, cmap='summer')\n",
    "plt.show()"
   ]
  },
  {
   "cell_type": "code",
   "execution_count": 11,
   "id": "4096e76f-0e52-4c75-8fdf-c05289720d18",
   "metadata": {},
   "outputs": [],
   "source": [
    "#fonction d'initialisation\n",
    "def initialisation(X):\n",
    "    W = np.random.randn(X.shape[1],1)\n",
    "    b = np.random.randn(1)\n",
    "    return (W, b)"
   ]
  },
  {
   "cell_type": "code",
   "execution_count": 16,
   "id": "76608af4-08e1-4b87-a548-120ab68ef889",
   "metadata": {},
   "outputs": [],
   "source": [
    "##test\n",
    "#W,b = initialisation(X)\n",
    "#W.shape\n",
    "#b.shape\n",
    "#b"
   ]
  },
  {
   "cell_type": "code",
   "execution_count": 17,
   "id": "de92ca24-ef83-4210-ac86-c407428c032e",
   "metadata": {},
   "outputs": [],
   "source": [
    "def model(X, W,b):\n",
    "        Z = X.dot(W) +b\n",
    "        A = 1/(1 + np.exp(-Z))\n",
    "        return A"
   ]
  },
  {
   "cell_type": "code",
   "execution_count": 18,
   "id": "3016c2d4-801f-4f18-ae64-1c11e1a1dfbb",
   "metadata": {},
   "outputs": [
    {
     "data": {
      "text/plain": [
       "(100, 1)"
      ]
     },
     "execution_count": 18,
     "metadata": {},
     "output_type": "execute_result"
    }
   ],
   "source": [
    "A = model (X,W,b)\n",
    "A.shape"
   ]
  },
  {
   "cell_type": "code",
   "execution_count": 41,
   "id": "9650fd76-97c7-4c89-8d8a-fae9014241db",
   "metadata": {},
   "outputs": [],
   "source": [
    "#foction cout\n",
    "def log_loss(A, y):\n",
    "    return 1/len(y) * np.sum(-y * np.log(A) - (1-y) * np.log(1-A))"
   ]
  },
  {
   "cell_type": "code",
   "execution_count": 42,
   "id": "c40fcf32-b9db-46b9-855c-aea03e6c01b6",
   "metadata": {},
   "outputs": [],
   "source": [
    "##test\n",
    "#log_loss(A, y)"
   ]
  },
  {
   "cell_type": "code",
   "execution_count": 43,
   "id": "fe7c830b-3df4-4e86-a69e-c6339c72625c",
   "metadata": {},
   "outputs": [],
   "source": [
    "def gradients(A,X,y):\n",
    "    dW = 1/len(y) * np.dot(X.T, A-y)\n",
    "    db = 1/len(y) * np.sum(A-y)\n",
    "    return (dW, db)"
   ]
  },
  {
   "cell_type": "code",
   "execution_count": 44,
   "id": "500a84c3-436e-44a5-84ac-b8271cad07d2",
   "metadata": {},
   "outputs": [],
   "source": [
    "##test\n",
    "#dW,db = gradients(A,X,y)\n",
    "#dW.shape\n",
    "#db"
   ]
  },
  {
   "cell_type": "code",
   "execution_count": 45,
   "id": "e7b57fc0-1dd7-401c-a125-fcb4647cd3ac",
   "metadata": {},
   "outputs": [],
   "source": [
    "def update(dW, db, W, b, learning_rate):\n",
    "    W = W - learning_rate * dW\n",
    "    b = b - learning_rate * db\n",
    "    return (W,b)"
   ]
  },
  {
   "cell_type": "code",
   "execution_count": 46,
   "id": "525dfabf-c334-41e5-9bee-8c0976008fa4",
   "metadata": {},
   "outputs": [],
   "source": [
    "##test\n",
    "#update(dW, db, W,b , learning_rate=0.01)\n",
    "#W.shape"
   ]
  },
  {
   "cell_type": "code",
   "execution_count": 61,
   "id": "3f292e2f-ba48-4305-bdc7-27b3726ea44f",
   "metadata": {},
   "outputs": [],
   "source": [
    "###fonction de prédiction (Sigmoide ?)\n",
    "def predict(X, W,b):\n",
    "    A= model (X,W,b)\n",
    "    print(A) #probabilité que l'exemple appartienne à la classe A\n",
    "    return A>= 0.5 #lorsque le seuil est >=0.5 on retourne la valeur de la classe A"
   ]
  },
  {
   "cell_type": "code",
   "execution_count": 62,
   "id": "c22c5359-9b19-4d04-8fc0-8991d5c268a9",
   "metadata": {},
   "outputs": [],
   "source": [
    "from sklearn.metrics import accuracy_score"
   ]
  },
  {
   "cell_type": "code",
   "execution_count": 63,
   "id": "9d3717a2-3d93-49bc-a368-68e5c63b884d",
   "metadata": {},
   "outputs": [],
   "source": [
    "#####ALGORITHME\n",
    "def artificial_neuron(X, y, learning_rate=0.1, n_iter= 100):\n",
    "    #initialiser les params W et b\n",
    "    W,b = initialisation (X)\n",
    "    #pour visualiser l'évolution du cout => liste\n",
    "    Loss = []\n",
    "    ##début apprentissage##\n",
    "    for i in range (n_iter):\n",
    "        A = model(X,W,b)\n",
    "        #Loss = log_loss(A, y)\n",
    "        Loss.append(log_loss(A,y))\n",
    "        dW, db = gradients(A,X,y)\n",
    "        W , b = update (dW, db, W, b, learning_rate)\n",
    "    ##apprentissage fini##\n",
    "    #calcul prediction pour toutes les données du Dataset\n",
    "    y_pred = predict(X,W, b)\n",
    "    #performance du modèle : (accuracy)\n",
    "    print(accuracy_score(y,y_pred))\n",
    "    plt.plot(Loss)\n",
    "    plt.show()\n",
    "    return (W,b) #à sauvegarder si on ne veut pas réentrainer le modèle"
   ]
  },
  {
   "cell_type": "code",
   "execution_count": 64,
   "id": "0363c460-49ad-4cac-ac85-90ebe4647fda",
   "metadata": {},
   "outputs": [
    {
     "name": "stdout",
     "output_type": "stream",
     "text": [
      "[[0.96569213]\n",
      " [0.68039625]\n",
      " [0.00760221]\n",
      " [0.12525156]\n",
      " [0.95354249]\n",
      " [0.34596678]\n",
      " [0.08526061]\n",
      " [0.94814108]\n",
      " [0.05649954]\n",
      " [0.80442655]\n",
      " [0.04007261]\n",
      " [0.82610018]\n",
      " [0.03880108]\n",
      " [0.02215555]\n",
      " [0.67990644]\n",
      " [0.98139011]\n",
      " [0.98514376]\n",
      " [0.04215843]\n",
      " [0.6375433 ]\n",
      " [0.58825127]\n",
      " [0.06057827]\n",
      " [0.04561991]\n",
      " [0.37676841]\n",
      " [0.00760232]\n",
      " [0.93223598]\n",
      " [0.04329299]\n",
      " [0.83349015]\n",
      " [0.0150236 ]\n",
      " [0.08805349]\n",
      " [0.73059544]\n",
      " [0.96327658]\n",
      " [0.05814187]\n",
      " [0.59179151]\n",
      " [0.96394243]\n",
      " [0.40276611]\n",
      " [0.27839808]\n",
      " [0.71732019]\n",
      " [0.54730663]\n",
      " [0.48550398]\n",
      " [0.38641599]\n",
      " [0.06611692]\n",
      " [0.12105318]\n",
      " [0.00151204]\n",
      " [0.18565364]\n",
      " [0.19657501]\n",
      " [0.81009521]\n",
      " [0.94293616]\n",
      " [0.9304469 ]\n",
      " [0.00627191]\n",
      " [0.01477688]\n",
      " [0.90710024]\n",
      " [0.48542957]\n",
      " [0.08163991]\n",
      " [0.05832998]\n",
      " [0.82665521]\n",
      " [0.0574345 ]\n",
      " [0.7270665 ]\n",
      " [0.77199696]\n",
      " [0.9360493 ]\n",
      " [0.98253796]\n",
      " [0.59936816]\n",
      " [0.21994017]\n",
      " [0.00746336]\n",
      " [0.90813648]\n",
      " [0.02370544]\n",
      " [0.3670304 ]\n",
      " [0.04004817]\n",
      " [0.65217475]\n",
      " [0.93134829]\n",
      " [0.30044397]\n",
      " [0.19163071]\n",
      " [0.87620142]\n",
      " [0.96611496]\n",
      " [0.14243306]\n",
      " [0.11131611]\n",
      " [0.04426185]\n",
      " [0.47413495]\n",
      " [0.85285006]\n",
      " [0.05478849]\n",
      " [0.04666955]\n",
      " [0.27190353]\n",
      " [0.11763122]\n",
      " [0.00626994]\n",
      " [0.14824268]\n",
      " [0.10111697]\n",
      " [0.01675585]\n",
      " [0.95854225]\n",
      " [0.10673328]\n",
      " [0.74423785]\n",
      " [0.93828874]\n",
      " [0.8853492 ]\n",
      " [0.9698435 ]\n",
      " [0.41574122]\n",
      " [0.87343199]\n",
      " [0.36988   ]\n",
      " [0.00166148]\n",
      " [0.95203231]\n",
      " [0.94913642]\n",
      " [0.01165454]\n",
      " [0.37989058]]\n",
      "0.87\n"
     ]
    },
    {
     "data": {
      "image/png": "[encoded data removed]",
      "text/plain": [
       "<Figure size 432x288 with 1 Axes>"
      ]
     },
     "metadata": {
      "needs_background": "light"
     },
     "output_type": "display_data"
    }
   ],
   "source": [
    "W, b = artificial_neuron(X,y)"
   ]
  },
  {
   "cell_type": "code",
   "execution_count": 65,
   "id": "1236e6fe-3c04-49f3-bf00-3fc8de2a0573",
   "metadata": {},
   "outputs": [
    {
     "data": {
      "text/plain": [
       "(array([[ 1.25946561],\n",
       "        [-0.89488744]]),\n",
       " array([0.02376021]))"
      ]
     },
     "execution_count": 65,
     "metadata": {},
     "output_type": "execute_result"
    }
   ],
   "source": [
    "W , b"
   ]
  },
  {
   "cell_type": "code",
   "execution_count": 67,
   "id": "5bbf9c9d-040f-44ec-8d95-510ad2b8a0a6",
   "metadata": {},
   "outputs": [
    {
     "data": {
      "image/png": "[encoded data removed]",
      "text/plain": [
       "<Figure size 432x288 with 1 Axes>"
      ]
     },
     "metadata": {
      "needs_background": "light"
     },
     "output_type": "display_data"
    },
    {
     "name": "stdout",
     "output_type": "stream",
     "text": [
      "[0.83859403]\n"
     ]
    },
    {
     "data": {
      "text/plain": [
       "array([ True])"
      ]
     },
     "execution_count": 67,
     "metadata": {},
     "output_type": "execute_result"
    }
   ],
   "source": [
    "new_plant = np.array([2,1])\n",
    "\n",
    "#frontière de décision\n",
    "x0 = np.linspace(-1, 4, 100)\n",
    "x1 = (-W[0] * x0 -b)/W[1]\n",
    "\n",
    "plt.scatter(X[:,0], X[:,1], c=y, cmap ='summer')\n",
    "plt.scatter(new_plant[0], new_plant[1], c='r')\n",
    "#afficher la frontière\n",
    "plt.plot(x0, x1, c=\"orange\", lw=3)\n",
    "\n",
    "plt.show()\n",
    "predict(new_plant, W, b)"
   ]
  },
  {
   "cell_type": "code",
   "execution_count": null,
   "id": "de34ed89-c5cc-4cc0-b209-2a826cb5c3e8",
   "metadata": {},
   "outputs": [],
   "source": [
    "#Tracer la frontière de décision (l'ensemble des points pour lesquels Z=0)"
   ]
  }
 ],
 "metadata": {
  "kernelspec": {
   "display_name": "Python 3 (ipykernel)",
   "language": "python",
   "name": "python3"
  },
  "language_info": {
   "codemirror_mode": {
    "name": "ipython",
    "version": 3
   },
   "file_extension": ".py",
   "mimetype": "text/x-python",
   "name": "python",
   "nbconvert_exporter": "python",
   "pygments_lexer": "ipython3",
   "version": "3.9.7"
  }
 },
 "nbformat": 4,
 "nbformat_minor": 5
}
