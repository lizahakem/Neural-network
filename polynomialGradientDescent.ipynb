{
 "cells": [
  {
   "cell_type": "code",
   "execution_count": 29,
   "id": "b9ff8946-00ea-459c-9572-559a52f5754b",
   "metadata": {},
   "outputs": [],
   "source": [
    "import numpy as np"
   ]
  },
  {
   "cell_type": "code",
   "execution_count": 30,
   "id": "1ba4b823-ee2c-4a25-a4aa-cb05b2d3cd0a",
   "metadata": {},
   "outputs": [],
   "source": [
    "from sklearn.datasets import make_regression #dataset\n",
    "import matplotlib.pyplot as plt #graphes"
   ]
  },
  {
   "cell_type": "code",
   "execution_count": 31,
   "id": "6bf03950-9b1c-4660-994f-94dd8c95cf40",
   "metadata": {},
   "outputs": [
    {
     "data": {
      "text/plain": [
       "<matplotlib.collections.PathCollection at 0x203a200c550>"
      ]
     },
     "execution_count": 31,
     "metadata": {},
     "output_type": "execute_result"
    },
    {
     "data": {
      "image/png": "[encoded data removed]",
      "text/plain": [
       "<Figure size 432x288 with 1 Axes>"
      ]
     },
     "metadata": {
      "needs_background": "light"
     },
     "output_type": "display_data"
    }
   ],
   "source": [
    "x, y = make_regression(n_samples=100, n_features=1, noise=10)\n",
    "y = y + abs(y/2)\n",
    "plt.scatter(x, y)"
   ]
  },
  {
   "cell_type": "code",
   "execution_count": 32,
   "id": "f635f45d-fd7a-4378-9d18-55b3c03dab15",
   "metadata": {},
   "outputs": [
    {
     "name": "stdout",
     "output_type": "stream",
     "text": [
      "(100, 1)\n",
      "(100, 1)\n"
     ]
    }
   ],
   "source": [
    "print (x.shape)\n",
    "y = y.reshape(y.shape[0],1)\n",
    "print(y.shape)"
   ]
  },
  {
   "cell_type": "code",
   "execution_count": 33,
   "id": "f9306f96-7099-47f7-ae0b-a2b9791b7cdf",
   "metadata": {},
   "outputs": [
    {
     "name": "stdout",
     "output_type": "stream",
     "text": [
      "(100, 3)\n",
      "[[ 2.57238821e-01  5.07187166e-01  1.00000000e+00]\n",
      " [ 5.89568126e-01  7.67833398e-01  1.00000000e+00]\n",
      " [ 1.61892496e+00 -1.27236982e+00  1.00000000e+00]\n",
      " [ 3.92959674e+00  1.98232105e+00  1.00000000e+00]\n",
      " [ 1.66948679e+00  1.29208622e+00  1.00000000e+00]\n",
      " [ 4.38561079e+00  2.09418499e+00  1.00000000e+00]\n",
      " [ 4.97733636e-01 -7.05502400e-01  1.00000000e+00]\n",
      " [ 4.32186004e-03 -6.57408552e-02  1.00000000e+00]\n",
      " [ 1.88629303e-02 -1.37342383e-01  1.00000000e+00]\n",
      " [ 9.01642133e-01  9.49548384e-01  1.00000000e+00]]\n"
     ]
    }
   ],
   "source": [
    "#matrice x\n",
    "X = np.hstack((x, np.ones(x.shape)))\n",
    "X = np.hstack((x**2,X))\n",
    "print(X.shape)\n",
    "print(X[:10])"
   ]
  },
  {
   "cell_type": "code",
   "execution_count": 34,
   "id": "d9c04dec-89ec-49bd-abe5-4f2a40b50f2c",
   "metadata": {},
   "outputs": [
    {
     "data": {
      "text/plain": [
       "array([[-1.38982937],\n",
       "       [-0.70689646],\n",
       "       [-0.5864304 ]])"
      ]
     },
     "execution_count": 34,
     "metadata": {},
     "output_type": "execute_result"
    }
   ],
   "source": [
    "theta= np.random.randn(3,1)\n",
    "theta"
   ]
  },
  {
   "cell_type": "code",
   "execution_count": 35,
   "id": "c3d550fc-e47a-4afc-a96a-c88d4f08aa73",
   "metadata": {},
   "outputs": [],
   "source": [
    "def model (X, theta):\n",
    "    return X.dot(theta)"
   ]
  },
  {
   "cell_type": "code",
   "execution_count": 36,
   "id": "214c0ce4-f081-454e-ae1e-ac18f809e956",
   "metadata": {},
   "outputs": [
    {
     "data": {
      "text/plain": [
       "[<matplotlib.lines.Line2D at 0x203a1fc5550>]"
      ]
     },
     "execution_count": 36,
     "metadata": {},
     "output_type": "execute_result"
    },
    {
     "data": {
      "image/png": "[encoded data removed]",
      "text/plain": [
       "<Figure size 432x288 with 1 Axes>"
      ]
     },
     "metadata": {
      "needs_background": "light"
     },
     "output_type": "display_data"
    }
   ],
   "source": [
    "plt.scatter(x,y)\n",
    "plt.plot(x, model(X,theta), c=\"red\")"
   ]
  },
  {
   "cell_type": "code",
   "execution_count": 19,
   "id": "06976a0f-445d-4c04-ba58-0750ae90ed63",
   "metadata": {},
   "outputs": [],
   "source": [
    "def cost_function(X, y, theta):\n",
    "    m= len(y)\n",
    "    return 1/(2*m) * np.sum((model(X, theta)- y) **2)"
   ]
  },
  {
   "cell_type": "code",
   "execution_count": 20,
   "id": "81e6a1eb-8acd-47cb-bb83-c8b862725423",
   "metadata": {},
   "outputs": [
    {
     "data": {
      "text/plain": [
       "2334.974240922777"
      ]
     },
     "execution_count": 20,
     "metadata": {},
     "output_type": "execute_result"
    }
   ],
   "source": [
    "cost_function(X, y, theta)"
   ]
  },
  {
   "cell_type": "code",
   "execution_count": 21,
   "id": "eec4a811-8c85-4a2c-b047-e68530d900f0",
   "metadata": {},
   "outputs": [],
   "source": [
    "def grad(X, y , theta):\n",
    "    m = len(y)\n",
    "    return 1/m * X.T.dot(model(X, theta) - y)"
   ]
  },
  {
   "cell_type": "code",
   "execution_count": 22,
   "id": "fb459416-de96-4af4-867d-7924a5ee3446",
   "metadata": {},
   "outputs": [],
   "source": [
    "def gradient_descent(X , y, theta, learning_rate, n_iterations):\n",
    "    cost_history = np.zeros(n_iterations)\n",
    "    for i in range(0, n_iterations):\n",
    "        theta = theta - learning_rate * grad(X, y, theta)\n",
    "        cost_history[i] = cost_function(X, y , theta)\n",
    "    return theta, cost_history"
   ]
  },
  {
   "cell_type": "code",
   "execution_count": 23,
   "id": "00cdbd1a-2d1a-4799-b6fe-4ef1ded62a40",
   "metadata": {},
   "outputs": [],
   "source": [
    "theta_final , cost_history = gradient_descent(X, y , theta, learning_rate=0.01, n_iterations=1000)"
   ]
  },
  {
   "cell_type": "code",
   "execution_count": 24,
   "id": "98e8cac3-8e5d-4dea-95fc-243b555338b9",
   "metadata": {},
   "outputs": [
    {
     "data": {
      "text/plain": [
       "array([[11.97177312],\n",
       "       [54.24574737],\n",
       "       [10.80514917]])"
      ]
     },
     "execution_count": 24,
     "metadata": {},
     "output_type": "execute_result"
    }
   ],
   "source": [
    "theta_final"
   ]
  },
  {
   "cell_type": "code",
   "execution_count": 25,
   "id": "d2790830-4c66-4009-a208-0db6bb6bb587",
   "metadata": {},
   "outputs": [
    {
     "data": {
      "text/plain": [
       "[<matplotlib.lines.Line2D at 0x203a21217f0>]"
      ]
     },
     "execution_count": 25,
     "metadata": {},
     "output_type": "execute_result"
    },
    {
     "data": {
      "image/png": "[encoded data removed]",
      "text/plain": [
       "<Figure size 432x288 with 1 Axes>"
      ]
     },
     "metadata": {
      "needs_background": "light"
     },
     "output_type": "display_data"
    }
   ],
   "source": [
    "predictions = model(X, theta_final)\n",
    "plt.scatter(x, y)\n",
    "plt.plot(x, predictions, c=\"red\")"
   ]
  },
  {
   "cell_type": "code",
   "execution_count": 26,
   "id": "01fe1a0a-ff72-4bcf-8150-1f3370dee876",
   "metadata": {},
   "outputs": [
    {
     "data": {
      "text/plain": [
       "[<matplotlib.lines.Line2D at 0x203a2182d30>]"
      ]
     },
     "execution_count": 26,
     "metadata": {},
     "output_type": "execute_result"
    },
    {
     "data": {
      "image/png": "[encoded data removed]",
      "text/plain": [
       "<Figure size 432x288 with 1 Axes>"
      ]
     },
     "metadata": {
      "needs_background": "light"
     },
     "output_type": "display_data"
    }
   ],
   "source": [
    "plt.plot(range(1000), cost_history)"
   ]
  },
  {
   "cell_type": "code",
   "execution_count": 27,
   "id": "4e04fa94-50e2-491a-a82f-fbfd8fb0f197",
   "metadata": {},
   "outputs": [],
   "source": [
    "def coef_determination(y,pred):\n",
    "    u = ((y-pred)**2).sum()\n",
    "    v = ((y -y.mean())**2).sum()\n",
    "    return 1 - u/v"
   ]
  },
  {
   "cell_type": "code",
   "execution_count": 28,
   "id": "d894d06c-feaa-47c6-96f7-7c24d77eadd8",
   "metadata": {},
   "outputs": [
    {
     "data": {
      "text/plain": [
       "0.966754359973365"
      ]
     },
     "execution_count": 28,
     "metadata": {},
     "output_type": "execute_result"
    }
   ],
   "source": [
    "coef_determination(y, predictions)"
   ]
  },
  {
   "cell_type": "code",
   "execution_count": null,
   "id": "66558099-1135-4bf5-b277-2d5a580303b5",
   "metadata": {},
   "outputs": [],
   "source": []
  }
 ],
 "metadata": {
  "kernelspec": {
   "display_name": "Python 3 (ipykernel)",
   "language": "python",
   "name": "python3"
  },
  "language_info": {
   "codemirror_mode": {
    "name": "ipython",
    "version": 3
   },
   "file_extension": ".py",
   "mimetype": "text/x-python",
   "name": "python",
   "nbconvert_exporter": "python",
   "pygments_lexer": "ipython3",
   "version": "3.9.7"
  }
 },
 "nbformat": 4,
 "nbformat_minor": 5
}
