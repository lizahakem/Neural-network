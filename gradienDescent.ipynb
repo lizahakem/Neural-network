{
 "cells": [
  {
   "cell_type": "code",
   "execution_count": 93,
   "id": "e2cedddf-183d-4fe2-bc8d-9a9e28248096",
   "metadata": {},
   "outputs": [],
   "source": [
    "import numpy as np #matrices"
   ]
  },
  {
   "cell_type": "code",
   "execution_count": 94,
   "id": "e7313dab-1b3b-49c0-8d9c-02048e4fc173",
   "metadata": {},
   "outputs": [],
   "source": [
    "from sklearn.datasets import make_regression #dataset\n",
    "import matplotlib.pyplot as plt #graphes"
   ]
  },
  {
   "cell_type": "code",
   "execution_count": 95,
   "id": "ff17205b-5781-4f16-989e-4c2a782810ff",
   "metadata": {},
   "outputs": [
    {
     "data": {
      "text/plain": [
       "<matplotlib.collections.PathCollection at 0x1a860224a30>"
      ]
     },
     "execution_count": 95,
     "metadata": {},
     "output_type": "execute_result"
    },
    {
     "data": {
      "image/png": "[encoded data removed]",
      "text/plain": [
       "<Figure size 432x288 with 1 Axes>"
      ]
     },
     "metadata": {
      "needs_background": "light"
     },
     "output_type": "display_data"
    }
   ],
   "source": [
    "x, y = make_regression(n_samples=100, n_features=1, noise=10)\n",
    "plt.scatter(x, y)"
   ]
  },
  {
   "cell_type": "code",
   "execution_count": 96,
   "id": "2c4daa29-25da-4d06-93c6-b4a0a9c4ccef",
   "metadata": {},
   "outputs": [
    {
     "name": "stdout",
     "output_type": "stream",
     "text": [
      "(100, 1)\n",
      "(100, 1)\n"
     ]
    }
   ],
   "source": [
    "print (x.shape)\n",
    "y = y.reshape(y.shape[0],1)\n",
    "print(y.shape)"
   ]
  },
  {
   "cell_type": "code",
   "execution_count": 97,
   "id": "1fbf083c-dd42-4e62-b398-b2894c23c3b6",
   "metadata": {},
   "outputs": [
    {
     "data": {
      "text/plain": [
       "(100, 1)"
      ]
     },
     "execution_count": 97,
     "metadata": {},
     "output_type": "execute_result"
    }
   ],
   "source": [
    "#matrice x\n",
    "X = np.hstack((x, np.ones(x.shape)))\n",
    "x.shape"
   ]
  },
  {
   "cell_type": "code",
   "execution_count": 98,
   "id": "4500764a-d61f-46a0-b45b-207e4a89b39c",
   "metadata": {},
   "outputs": [
    {
     "data": {
      "text/plain": [
       "array([[0.381491  ],\n",
       "       [1.60095299]])"
      ]
     },
     "execution_count": 98,
     "metadata": {},
     "output_type": "execute_result"
    }
   ],
   "source": [
    "theta= np.random.randn(2,1)\n",
    "theta"
   ]
  },
  {
   "cell_type": "code",
   "execution_count": 99,
   "id": "99c973e6-1b8c-4038-9653-27f243edb478",
   "metadata": {},
   "outputs": [],
   "source": [
    "def model (X, theta):\n",
    "    return X.dot(theta)"
   ]
  },
  {
   "cell_type": "code",
   "execution_count": 100,
   "id": "641a525b-2579-42b2-98e8-f74e839034d1",
   "metadata": {},
   "outputs": [
    {
     "data": {
      "text/plain": [
       "[<matplotlib.lines.Line2D at 0x1a8600b9fa0>]"
      ]
     },
     "execution_count": 100,
     "metadata": {},
     "output_type": "execute_result"
    },
    {
     "data": {
      "image/png": "[encoded data removed]",
      "text/plain": [
       "<Figure size 432x288 with 1 Axes>"
      ]
     },
     "metadata": {
      "needs_background": "light"
     },
     "output_type": "display_data"
    }
   ],
   "source": [
    "plt.scatter(x,y)\n",
    "plt.plot(x, model(X,theta), c=\"red\")"
   ]
  },
  {
   "cell_type": "code",
   "execution_count": 101,
   "id": "c052032b-81b9-4de8-9039-8c963bd284b0",
   "metadata": {},
   "outputs": [],
   "source": [
    "# FONCTION COUT"
   ]
  },
  {
   "cell_type": "code",
   "execution_count": 102,
   "id": "4488d342-c6e6-411d-a491-6ddbde9482fa",
   "metadata": {},
   "outputs": [],
   "source": [
    "def cost_function(X, y, theta):\n",
    "    m= len(y)\n",
    "    return 1/(2*m) * np.sum((model(X, theta)- y) **2)"
   ]
  },
  {
   "cell_type": "code",
   "execution_count": 103,
   "id": "245da1f0-a635-48bd-9ea7-38fcd2ae97e5",
   "metadata": {},
   "outputs": [
    {
     "data": {
      "text/plain": [
       "769.560441355686"
      ]
     },
     "execution_count": 103,
     "metadata": {},
     "output_type": "execute_result"
    }
   ],
   "source": [
    "cost_function(X, y, theta)"
   ]
  },
  {
   "cell_type": "code",
   "execution_count": 104,
   "id": "ab962681-2ffb-4e76-b83b-24f2e744c2fe",
   "metadata": {},
   "outputs": [],
   "source": [
    "def grad(X, y , theta):\n",
    "    m = len(y)\n",
    "    return 1/m * X.T.dot(model(X, theta) - y)"
   ]
  },
  {
   "cell_type": "code",
   "execution_count": 105,
   "id": "7fab855a-1c88-425e-86dd-a48376345b30",
   "metadata": {},
   "outputs": [],
   "source": [
    "def gradient_descent(X , y, theta, learning_rate, n_iterations):\n",
    "    cost_history = np.zeros(n_iterations)\n",
    "    for i in range(0, n_iterations):\n",
    "        theta = theta - learning_rate * grad(X, y, theta)\n",
    "        cost_history[i] = cost_function(X, y , theta)\n",
    "    return theta, cost_history"
   ]
  },
  {
   "cell_type": "code",
   "execution_count": 106,
   "id": "69156e14-c10f-488f-a0b5-7e5a9dbf5e15",
   "metadata": {},
   "outputs": [],
   "source": [
    "theta_final , cost_history = gradient_descent(X, y , theta, learning_rate=0.01, n_iterations=1000)"
   ]
  },
  {
   "cell_type": "code",
   "execution_count": 107,
   "id": "2a9d581f-abe0-4cab-83d7-f882041f5d23",
   "metadata": {},
   "outputs": [
    {
     "data": {
      "text/plain": [
       "array([[38.46530255],\n",
       "       [ 0.54148883]])"
      ]
     },
     "execution_count": 107,
     "metadata": {},
     "output_type": "execute_result"
    }
   ],
   "source": [
    "theta_final"
   ]
  },
  {
   "cell_type": "code",
   "execution_count": 108,
   "id": "063c1ccd-b7ee-48ff-97cb-70310e2ab974",
   "metadata": {},
   "outputs": [
    {
     "data": {
      "text/plain": [
       "[<matplotlib.lines.Line2D at 0x1a860164250>]"
      ]
     },
     "execution_count": 108,
     "metadata": {},
     "output_type": "execute_result"
    },
    {
     "data": {
      "image/png": "[encoded data removed]",
      "text/plain": [
       "<Figure size 432x288 with 1 Axes>"
      ]
     },
     "metadata": {
      "needs_background": "light"
     },
     "output_type": "display_data"
    }
   ],
   "source": [
    "predictions = model(X, theta_final)\n",
    "plt.scatter(x, y)\n",
    "plt.plot(x, predictions, c=\"red\")"
   ]
  },
  {
   "cell_type": "code",
   "execution_count": 109,
   "id": "d8e6f503-9b8e-497e-b6e9-83b10c4f7a14",
   "metadata": {},
   "outputs": [
    {
     "data": {
      "text/plain": [
       "[<matplotlib.lines.Line2D at 0x1a86007a370>]"
      ]
     },
     "execution_count": 109,
     "metadata": {},
     "output_type": "execute_result"
    },
    {
     "data": {
      "image/png": "[encoded data removed]",
      "text/plain": [
       "<Figure size 432x288 with 1 Axes>"
      ]
     },
     "metadata": {
      "needs_background": "light"
     },
     "output_type": "display_data"
    }
   ],
   "source": [
    "plt.plot(range(1000), cost_history)"
   ]
  },
  {
   "cell_type": "code",
   "execution_count": 110,
   "id": "f9c92e5a-5d20-4ed0-80c4-6793e3924958",
   "metadata": {},
   "outputs": [],
   "source": [
    "def coef_determination(y,pred):\n",
    "    u = ((y-pred)**2).sum()\n",
    "    v = ((y -y.mean())**2).sum()\n",
    "    return 1 - u/v"
   ]
  },
  {
   "cell_type": "code",
   "execution_count": 111,
   "id": "851638b3-78d7-43f1-a21b-b89ad0254a43",
   "metadata": {},
   "outputs": [
    {
     "data": {
      "text/plain": [
       "0.9486985892494062"
      ]
     },
     "execution_count": 111,
     "metadata": {},
     "output_type": "execute_result"
    }
   ],
   "source": [
    "coef_determination(y, predictions)"
   ]
  },
  {
   "cell_type": "code",
   "execution_count": null,
   "id": "2fcc47cf-5cf7-4702-8744-f311ca141f1e",
   "metadata": {},
   "outputs": [],
   "source": []
  },
  {
   "cell_type": "code",
   "execution_count": null,
   "id": "9f9bd316-d1cd-4fdd-82d0-63928195e4d2",
   "metadata": {},
   "outputs": [],
   "source": []
  }
 ],
 "metadata": {
  "kernelspec": {
   "display_name": "Python 3 (ipykernel)",
   "language": "python",
   "name": "python3"
  },
  "language_info": {
   "codemirror_mode": {
    "name": "ipython",
    "version": 3
   },
   "file_extension": ".py",
   "mimetype": "text/x-python",
   "name": "python",
   "nbconvert_exporter": "python",
   "pygments_lexer": "ipython3",
   "version": "3.9.7"
  }
 },
 "nbformat": 4,
 "nbformat_minor": 5
}
